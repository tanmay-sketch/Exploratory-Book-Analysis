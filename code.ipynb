{
 "cells": [
  {
   "cell_type": "markdown",
   "metadata": {},
   "source": [
    "# CMSE 201 Project Draft"
   ]
  },
  {
   "cell_type": "markdown",
   "metadata": {},
   "source": [
    "#### CMSE 201 Final Project\n",
    "### Name: Tanmay Grandhisiri\n",
    "### Section: 005\n",
    "#### Date: 11/13/2022"
   ]
  },
  {
   "cell_type": "markdown",
   "metadata": {},
   "source": [
    "# Finding best Data Science Books to learn from"
   ]
  },
  {
   "cell_type": "markdown",
   "metadata": {},
   "source": [
    "## __Research Question__"
   ]
  },
  {
   "cell_type": "markdown",
   "metadata": {},
   "source": [
    "#### __\"Evaluating what kind of books data science students should choose from during their learning journey?\"__"
   ]
  },
  {
   "cell_type": "markdown",
   "metadata": {},
   "source": [
    "## Background Motivation\n",
    "\n",
    "As a data science student, the technical skills and talents required to become a professional data scientist requires extensive learning and practice. Beginner data science processes typically involve numerous tasks ranging from data collection to data exploration to data analysis, visualization, and model production, among others. Because of the number and range of information available on the internet, the learning process during this process can become quite difficult/overwhelming.\n",
    "\n",
    "We all have different viewpoints on learning and knowledge acquisition; for example, one of my favorite learning materials is books. Whatever the subject, a well-written book provides a lot of knowledge and can help you improve your ideas, which is a tremendous help when it comes to learning in general. \n",
    "\n",
    "This motivated me to do an exploratory data analysis to determine what makes effective data science books and what common patterns emerge from the available online information."
   ]
  },
  {
   "cell_type": "markdown",
   "metadata": {},
   "source": [
    "## Methodology\n",
    "\n",
    "In this study I will be starting off with simple exploratory data analysis trying to answer questions like: \n",
    "* Do more expensive books have better reviews? \n",
    "* Is it always true that longer books are more expensive? (Book length vs prices?)\n",
    "* What are the best Python books?\n",
    "* What are the best Machine learning books? \n",
    "\n",
    "I would then be trying to find out what are the main types/categories of data science books available. I would then be using k-means for clustering the book titles. In order to do that I would be using TF-IDF model (term frequency-inverse document frequency) to convert text into numeric features. "
   ]
  },
  {
   "cell_type": "markdown",
   "metadata": {},
   "source": [
    "## Citations\n",
    "\n",
    "1. https://monkeylearn.com/blog/what-is-tf-idf/\n",
    "2. https://youtu.be/N0o-Bjiwt0M"
   ]
  },
  {
   "cell_type": "markdown",
   "metadata": {},
   "source": []
  }
 ],
 "metadata": {
  "kernelspec": {
   "display_name": "Python 3.9.12 ('base')",
   "language": "python",
   "name": "python3"
  },
  "language_info": {
   "codemirror_mode": {
    "name": "ipython",
    "version": 3
   },
   "file_extension": ".py",
   "mimetype": "text/x-python",
   "name": "python",
   "nbconvert_exporter": "python",
   "pygments_lexer": "ipython3",
   "version": "3.9.12"
  },
  "orig_nbformat": 4,
  "vscode": {
   "interpreter": {
    "hash": "9f2e67fa16098141e05fdb6a7511c56c7361702189dedaf42178dc9062196e41"
   }
  }
 },
 "nbformat": 4,
 "nbformat_minor": 2
}
